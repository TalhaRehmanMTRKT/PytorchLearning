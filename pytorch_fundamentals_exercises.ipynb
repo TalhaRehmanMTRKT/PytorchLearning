{
  "nbformat": 4,
  "nbformat_minor": 0,
  "metadata": {
    "colab": {
      "provenance": []
    },
    "kernelspec": {
      "name": "python3",
      "display_name": "Python 3"
    },
    "language_info": {
      "name": "python"
    },
    "accelerator": "GPU"
  },
  "cells": [
    {
      "cell_type": "markdown",
      "source": [
        "# 00. PyTorch Fundamentals Exercises\n",
        "\n",
        "### 1. Documentation reading \n",
        "\n",
        "A big part of deep learning (and learning to code in general) is getting familiar with the documentation of a certain framework you're using. We'll be using the PyTorch documentation a lot throughout the rest of this course. So I'd recommend spending 10-minutes reading the following (it's okay if you don't get some things for now, the focus is not yet full understanding, it's awareness):\n",
        "  * The documentation on [`torch.Tensor`](https://pytorch.org/docs/stable/tensors.html#torch-tensor).\n",
        "  * The documentation on [`torch.cuda`](https://pytorch.org/docs/master/notes/cuda.html#cuda-semantics).\n",
        "\n"
      ],
      "metadata": {
        "id": "AzDBM_v4iMe7"
      }
    },
    {
      "cell_type": "code",
      "source": [
        "# No code solution (reading)"
      ],
      "metadata": {
        "id": "bGD0oD8Kizak"
      },
      "execution_count": 96,
      "outputs": []
    },
    {
      "cell_type": "markdown",
      "source": [
        "### 2. Create a random tensor with shape `(7, 7)`.\n"
      ],
      "metadata": {
        "id": "__iXqqz-ioUJ"
      }
    },
    {
      "cell_type": "code",
      "source": [
        "# Import torch\n",
        "import torch\n",
        "print(torch.__version__)\n",
        "\n",
        "# Create random tensor\n",
        "r1 = torch.rand(size=(7,7))\n",
        "r1"
      ],
      "metadata": {
        "id": "6pUq9Dc8i2L7",
        "colab": {
          "base_uri": "https://localhost:8080/"
        },
        "outputId": "ed3ec296-7086-4e91-8d3a-e6eccabf5fa2"
      },
      "execution_count": 97,
      "outputs": [
        {
          "output_type": "stream",
          "name": "stdout",
          "text": [
            "1.13.1+cu116\n"
          ]
        },
        {
          "output_type": "execute_result",
          "data": {
            "text/plain": [
              "tensor([[0.8549, 0.5509, 0.2868, 0.2063, 0.4451, 0.3593, 0.7204],\n",
              "        [0.0731, 0.9699, 0.1078, 0.8829, 0.4132, 0.7572, 0.6948],\n",
              "        [0.5209, 0.5932, 0.8797, 0.6286, 0.7653, 0.1132, 0.8559],\n",
              "        [0.6721, 0.6267, 0.5691, 0.7437, 0.9592, 0.3887, 0.2214],\n",
              "        [0.3742, 0.1953, 0.7405, 0.2529, 0.2332, 0.9314, 0.9575],\n",
              "        [0.5575, 0.4134, 0.4355, 0.7369, 0.0331, 0.0914, 0.8994],\n",
              "        [0.9936, 0.4703, 0.1049, 0.5137, 0.2674, 0.4990, 0.7447]])"
            ]
          },
          "metadata": {},
          "execution_count": 97
        }
      ]
    },
    {
      "cell_type": "markdown",
      "source": [
        "### 3. Perform a matrix multiplication on the tensor from 2 with another random tensor with shape `(1, 7)` (hint: you may have to transpose the second tensor)."
      ],
      "metadata": {
        "id": "9-XxvRLfiqkR"
      }
    },
    {
      "cell_type": "code",
      "source": [
        "# Create another random tensor\n",
        "r2 = torch.rand(size=(1,7))\n",
        "# Perform matrix multiplication \n",
        "r1 @ r2.transpose(1,0)"
      ],
      "metadata": {
        "id": "NcLqR0Sbi_vT",
        "colab": {
          "base_uri": "https://localhost:8080/"
        },
        "outputId": "787027c5-8c66-40f5-c5d0-ad38b906860a"
      },
      "execution_count": 98,
      "outputs": [
        {
          "output_type": "execute_result",
          "data": {
            "text/plain": [
              "tensor([[1.6914],\n",
              "        [1.7581],\n",
              "        [2.0906],\n",
              "        [1.8975],\n",
              "        [1.7585],\n",
              "        [1.7961],\n",
              "        [1.8900]])"
            ]
          },
          "metadata": {},
          "execution_count": 98
        }
      ]
    },
    {
      "cell_type": "markdown",
      "source": [
        "### 4. Set the random seed to `0` and do 2 & 3 over again.\n",
        "\n",
        "The output should be:\n",
        "```\n",
        "(tensor([[1.8542],\n",
        "         [1.9611],\n",
        "         [2.2884],\n",
        "         [3.0481],\n",
        "         [1.7067],\n",
        "         [2.5290],\n",
        "         [1.7989]]), torch.Size([7, 1]))\n",
        "```"
      ],
      "metadata": {
        "id": "eiutdKUFiryU"
      }
    },
    {
      "cell_type": "code",
      "source": [
        "# Set manual seed\n",
        "torch.manual_seed(0)\n",
        "# Create two random tensors\n",
        "r1 = torch.rand(7,7)\n",
        "r2 = torch.rand(1,7)\n",
        "\n",
        "# Matrix multiply tensors\n",
        "mm1 = r1 @ r2.transpose(1,0) \n",
        "\n",
        "print(f'Using @ \\n {mm1}')\n",
        "\n",
        "mm2 = torch.mm(r1,r2.transpose(1,0)) \n",
        "\n",
        "print(f'Using torch.mm \\n {mm2}')"
      ],
      "metadata": {
        "id": "D-lOWI_1jRMm",
        "colab": {
          "base_uri": "https://localhost:8080/"
        },
        "outputId": "6591eace-980e-47d7-c52e-55a14a65084d"
      },
      "execution_count": 99,
      "outputs": [
        {
          "output_type": "stream",
          "name": "stdout",
          "text": [
            "Using @ \n",
            " tensor([[1.8542],\n",
            "        [1.9611],\n",
            "        [2.2884],\n",
            "        [3.0481],\n",
            "        [1.7067],\n",
            "        [2.5290],\n",
            "        [1.7989]])\n",
            "Using torch.mm \n",
            " tensor([[1.8542],\n",
            "        [1.9611],\n",
            "        [2.2884],\n",
            "        [3.0481],\n",
            "        [1.7067],\n",
            "        [2.5290],\n",
            "        [1.7989]])\n"
          ]
        }
      ]
    },
    {
      "cell_type": "markdown",
      "source": [
        "### 5. Speaking of random seeds, we saw how to set it with `torch.manual_seed()` but is there a GPU equivalent? (hint: you'll need to look into the documentation for `torch.cuda` for this one)\n",
        "  * If there is, set the GPU random seed to `1234`."
      ],
      "metadata": {
        "id": "ezY6ks9Cis37"
      }
    },
    {
      "cell_type": "code",
      "source": [
        "# Set random seed on the GPU\n",
        "\n",
        "torch.cuda.manual_seed(1234)"
      ],
      "metadata": {
        "id": "_LKWcfSTjp00"
      },
      "execution_count": 100,
      "outputs": []
    },
    {
      "cell_type": "markdown",
      "source": [
        "\n",
        "### 6. Create two random tensors of shape `(2, 3)` and send them both to the GPU (you'll need access to a GPU for this). Set `torch.manual_seed(1234)` when creating the tensors (this doesn't have to be the GPU random seed). The output should be something like:\n",
        "\n",
        "```\n",
        "Device: cuda\n",
        "(tensor([[0.0290, 0.4019, 0.2598],\n",
        "         [0.3666, 0.0583, 0.7006]], device='cuda:0'),\n",
        " tensor([[0.0518, 0.4681, 0.6738],\n",
        "         [0.3315, 0.7837, 0.5631]], device='cuda:0'))\n",
        "```"
      ],
      "metadata": {
        "id": "Ir9qSaj6it4n"
      }
    },
    {
      "cell_type": "code",
      "source": [
        "# Set random seed\n",
        "torch.manual_seed(1234)\n",
        "# Check for access to GPU\n",
        "print(f\" Is GPU Avaialable : {torch.cuda.is_available()}\")\n",
        "\n",
        "# Device agnostic code\n",
        "device = \"cuda\" if torch.cuda.is_available() else \"cpu\"\n",
        "print(f\" Device : {device} \")\n",
        "# Create two random tensors on GPU\n",
        "r1 = torch.rand(2,3).to(device)\n",
        "r2 = torch.rand(2,3).to(device)\n",
        "r1, r2"
      ],
      "metadata": {
        "id": "azXExiFZj5nm",
        "colab": {
          "base_uri": "https://localhost:8080/"
        },
        "outputId": "1f72b99d-fe44-4153-cebc-daa5f573bd2c"
      },
      "execution_count": 101,
      "outputs": [
        {
          "output_type": "stream",
          "name": "stdout",
          "text": [
            " Is GPU Avaialable : True\n",
            " Device : cuda \n"
          ]
        },
        {
          "output_type": "execute_result",
          "data": {
            "text/plain": [
              "(tensor([[0.0290, 0.4019, 0.2598],\n",
              "         [0.3666, 0.0583, 0.7006]], device='cuda:0'),\n",
              " tensor([[0.0518, 0.4681, 0.6738],\n",
              "         [0.3315, 0.7837, 0.5631]], device='cuda:0'))"
            ]
          },
          "metadata": {},
          "execution_count": 101
        }
      ]
    },
    {
      "cell_type": "markdown",
      "source": [
        "\n",
        "### 7. Perform a matrix multiplication on the tensors you created in 6 (again, you may have to adjust the shapes of one of the tensors).\n",
        "\n",
        "The output should look like:\n",
        "```\n",
        "(tensor([[0.3647, 0.4709],\n",
        "         [0.5184, 0.5617]], device='cuda:0'), torch.Size([2, 2]))\n",
        "```"
      ],
      "metadata": {
        "id": "5TlAxeiSiu1y"
      }
    },
    {
      "cell_type": "code",
      "source": [
        "# Perform matmul on tensor_A and tensor_B\n",
        "mm3 = torch.matmul(r1,r2.transpose(1,0))\n",
        "mm3, mm3.shape"
      ],
      "metadata": {
        "id": "fAeG7ox0lHEO",
        "colab": {
          "base_uri": "https://localhost:8080/"
        },
        "outputId": "2fa0d742-2e9e-4511-d4e4-1dfeac824d78"
      },
      "execution_count": 102,
      "outputs": [
        {
          "output_type": "execute_result",
          "data": {
            "text/plain": [
              "(tensor([[0.3647, 0.4709],\n",
              "         [0.5184, 0.5617]], device='cuda:0'), torch.Size([2, 2]))"
            ]
          },
          "metadata": {},
          "execution_count": 102
        }
      ]
    },
    {
      "cell_type": "markdown",
      "source": [
        "### 8. Find the maximum and minimum values of the output of 7."
      ],
      "metadata": {
        "id": "G7qfa5CSivwg"
      }
    },
    {
      "cell_type": "code",
      "source": [
        "# Find max\n",
        "print(f\"The Maximum is : {mm3.max()}\")\n",
        "# Find min\n",
        "print(f\"The Minimum is : {mm3.min()}\")"
      ],
      "metadata": {
        "id": "Fu8_3mZpllOd",
        "colab": {
          "base_uri": "https://localhost:8080/"
        },
        "outputId": "88cf00ae-3622-4665-bca9-828a9ca4ba39"
      },
      "execution_count": 103,
      "outputs": [
        {
          "output_type": "stream",
          "name": "stdout",
          "text": [
            "The Maximum is : 0.5617256760597229\n",
            "The Minimum is : 0.3647301495075226\n"
          ]
        }
      ]
    },
    {
      "cell_type": "markdown",
      "source": [
        "### 9. Find the maximum and minimum index values of the output of 7."
      ],
      "metadata": {
        "id": "wrTj5FgNiw47"
      }
    },
    {
      "cell_type": "code",
      "source": [
        "row,col = mm3.shape"
      ],
      "metadata": {
        "id": "1YAgkpg67t6u"
      },
      "execution_count": 104,
      "outputs": []
    },
    {
      "cell_type": "code",
      "source": [
        "print(mm3.reshape(row*col))\n",
        "# Find arg max\n",
        "print(f\"Index where max value occurs: {mm3.argmax()}\")\n",
        "# Find arg min\n",
        "print(f\"Index where min value occurs: {mm3.argmin()}\")"
      ],
      "metadata": {
        "id": "CCEKt4K2lsfQ",
        "colab": {
          "base_uri": "https://localhost:8080/"
        },
        "outputId": "ee7566ad-c150-48b3-869d-b7ceb842a7a3"
      },
      "execution_count": 105,
      "outputs": [
        {
          "output_type": "stream",
          "name": "stdout",
          "text": [
            "tensor([0.3647, 0.4709, 0.5184, 0.5617], device='cuda:0')\n",
            "Index where max value occurs: 3\n",
            "Index where min value occurs: 0\n"
          ]
        }
      ]
    },
    {
      "cell_type": "markdown",
      "source": [
        "\n",
        "### 10. Make a random tensor with shape `(1, 1, 1, 10)` and then create a new tensor with all the `1` dimensions removed to be left with a tensor of shape `(10)`. Set the seed to `7` when you create it and print out the first tensor and it's shape as well as the second tensor and it's shape.\n",
        "\n",
        "The output should look like:\n",
        "\n",
        "```\n",
        "tensor([[[[0.5349, 0.1988, 0.6592, 0.6569, 0.2328, 0.4251, 0.2071, 0.6297,\n",
        "           0.3653, 0.8513]]]]) torch.Size([1, 1, 1, 10])\n",
        "tensor([0.5349, 0.1988, 0.6592, 0.6569, 0.2328, 0.4251, 0.2071, 0.6297, 0.3653,\n",
        "        0.8513]) torch.Size([10])\n",
        "```"
      ],
      "metadata": {
        "id": "hmeybz4uixy7"
      }
    },
    {
      "cell_type": "code",
      "source": [
        "# Set seed\n",
        "torch.manual_seed(7)\n",
        "\n",
        "# Create random tensor\n",
        "r = torch.rand(1,1,1,10)\n",
        "print(\" Random Tensor : \", r)\n",
        "print('Shape of Random Tensor : ', r.shape)\n",
        "print('\\n\\n')\n",
        "# Remove single dimensions\n",
        "r2 = r.squeeze()\n",
        "# Print out tensors and their shapes\n",
        "print(\" Sequeezed Random Tensor : \", r2)\n",
        "print('Shape of  Sequeezed Random Tensor : ', r2.shape)"
      ],
      "metadata": {
        "id": "TQ9zbRzVl1jV",
        "colab": {
          "base_uri": "https://localhost:8080/"
        },
        "outputId": "f2901aa8-bd96-4861-ecc6-fc918f805f3e"
      },
      "execution_count": 106,
      "outputs": [
        {
          "output_type": "stream",
          "name": "stdout",
          "text": [
            " Random Tensor :  tensor([[[[0.5349, 0.1988, 0.6592, 0.6569, 0.2328, 0.4251, 0.2071, 0.6297,\n",
            "           0.3653, 0.8513]]]])\n",
            "Shape of Random Tensor :  torch.Size([1, 1, 1, 10])\n",
            "\n",
            "\n",
            "\n",
            " Sequeezed Random Tensor :  tensor([0.5349, 0.1988, 0.6592, 0.6569, 0.2328, 0.4251, 0.2071, 0.6297, 0.3653,\n",
            "        0.8513])\n",
            "Shape of  Sequeezed Random Tensor :  torch.Size([10])\n"
          ]
        }
      ]
    },
    {
      "cell_type": "code",
      "source": [],
      "metadata": {
        "id": "EzC35Bel8OYQ"
      },
      "execution_count": 106,
      "outputs": []
    }
  ]
}